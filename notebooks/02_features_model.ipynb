{
 "cells": [
  {
   "cell_type": "code",
   "execution_count": 1,
   "id": "32978368",
   "metadata": {},
   "outputs": [],
   "source": [
    "# Importing all required libraries\n",
    "import pandas as pd\n",
    "import numpy as np\n",
    "from sklearn.model_selection import train_test_split\n",
    "from sklearn.linear_model import LogisticRegression\n",
    "from sklearn.ensemble import RandomForestClassifier\n",
    "from xgboost import XGBClassifier\n",
    "from sklearn.metrics import accuracy_score, confusion_matrix, classification_report\n",
    "import matplotlib.pyplot as plt\n",
    "import seaborn as sns"
   ]
  },
  {
   "cell_type": "markdown",
   "id": "d3240e4d",
   "metadata": {},
   "source": [
    "# Data Cleaning"
   ]
  },
  {
   "cell_type": "code",
   "execution_count": 2,
   "id": "2f1c1a6a",
   "metadata": {},
   "outputs": [
    {
     "data": {
      "text/html": [
       "<div>\n",
       "<style scoped>\n",
       "    .dataframe tbody tr th:only-of-type {\n",
       "        vertical-align: middle;\n",
       "    }\n",
       "\n",
       "    .dataframe tbody tr th {\n",
       "        vertical-align: top;\n",
       "    }\n",
       "\n",
       "    .dataframe thead th {\n",
       "        text-align: right;\n",
       "    }\n",
       "</style>\n",
       "<table border=\"1\" class=\"dataframe\">\n",
       "  <thead>\n",
       "    <tr style=\"text-align: right;\">\n",
       "      <th></th>\n",
       "      <th>Tenure</th>\n",
       "      <th>WarehouseToHome</th>\n",
       "      <th>NumberOfDeviceRegistered</th>\n",
       "      <th>PreferedOrderCat</th>\n",
       "      <th>SatisfactionScore</th>\n",
       "      <th>MaritalStatus</th>\n",
       "      <th>NumberOfAddress</th>\n",
       "      <th>Complain</th>\n",
       "      <th>DaySinceLastOrder</th>\n",
       "      <th>CashbackAmount</th>\n",
       "      <th>Churn</th>\n",
       "    </tr>\n",
       "  </thead>\n",
       "  <tbody>\n",
       "    <tr>\n",
       "      <th>0</th>\n",
       "      <td>15.0</td>\n",
       "      <td>29.0</td>\n",
       "      <td>4</td>\n",
       "      <td>Laptop &amp; Accessory</td>\n",
       "      <td>3</td>\n",
       "      <td>Single</td>\n",
       "      <td>2</td>\n",
       "      <td>0</td>\n",
       "      <td>7.0</td>\n",
       "      <td>143.32</td>\n",
       "      <td>0</td>\n",
       "    </tr>\n",
       "    <tr>\n",
       "      <th>1</th>\n",
       "      <td>7.0</td>\n",
       "      <td>25.0</td>\n",
       "      <td>4</td>\n",
       "      <td>Mobile</td>\n",
       "      <td>1</td>\n",
       "      <td>Married</td>\n",
       "      <td>2</td>\n",
       "      <td>0</td>\n",
       "      <td>7.0</td>\n",
       "      <td>129.29</td>\n",
       "      <td>0</td>\n",
       "    </tr>\n",
       "    <tr>\n",
       "      <th>2</th>\n",
       "      <td>27.0</td>\n",
       "      <td>13.0</td>\n",
       "      <td>3</td>\n",
       "      <td>Laptop &amp; Accessory</td>\n",
       "      <td>1</td>\n",
       "      <td>Married</td>\n",
       "      <td>5</td>\n",
       "      <td>0</td>\n",
       "      <td>7.0</td>\n",
       "      <td>168.54</td>\n",
       "      <td>0</td>\n",
       "    </tr>\n",
       "    <tr>\n",
       "      <th>3</th>\n",
       "      <td>20.0</td>\n",
       "      <td>25.0</td>\n",
       "      <td>4</td>\n",
       "      <td>Fashion</td>\n",
       "      <td>3</td>\n",
       "      <td>Divorced</td>\n",
       "      <td>7</td>\n",
       "      <td>0</td>\n",
       "      <td>NaN</td>\n",
       "      <td>230.27</td>\n",
       "      <td>0</td>\n",
       "    </tr>\n",
       "    <tr>\n",
       "      <th>4</th>\n",
       "      <td>30.0</td>\n",
       "      <td>15.0</td>\n",
       "      <td>4</td>\n",
       "      <td>Others</td>\n",
       "      <td>4</td>\n",
       "      <td>Single</td>\n",
       "      <td>8</td>\n",
       "      <td>0</td>\n",
       "      <td>8.0</td>\n",
       "      <td>322.17</td>\n",
       "      <td>0</td>\n",
       "    </tr>\n",
       "  </tbody>\n",
       "</table>\n",
       "</div>"
      ],
      "text/plain": [
       "   Tenure  WarehouseToHome  NumberOfDeviceRegistered    PreferedOrderCat  \\\n",
       "0    15.0             29.0                         4  Laptop & Accessory   \n",
       "1     7.0             25.0                         4              Mobile   \n",
       "2    27.0             13.0                         3  Laptop & Accessory   \n",
       "3    20.0             25.0                         4             Fashion   \n",
       "4    30.0             15.0                         4              Others   \n",
       "\n",
       "   SatisfactionScore MaritalStatus  NumberOfAddress  Complain  \\\n",
       "0                  3        Single                2         0   \n",
       "1                  1       Married                2         0   \n",
       "2                  1       Married                5         0   \n",
       "3                  3      Divorced                7         0   \n",
       "4                  4        Single                8         0   \n",
       "\n",
       "   DaySinceLastOrder  CashbackAmount  Churn  \n",
       "0                7.0          143.32      0  \n",
       "1                7.0          129.29      0  \n",
       "2                7.0          168.54      0  \n",
       "3                NaN          230.27      0  \n",
       "4                8.0          322.17      0  "
      ]
     },
     "execution_count": 2,
     "metadata": {},
     "output_type": "execute_result"
    }
   ],
   "source": [
    "# Load the Data\n",
    "df = pd.read_csv(\"../data/raw/ecommerce_data.csv\")\n",
    "df.head()"
   ]
  },
  {
   "cell_type": "code",
   "execution_count": 3,
   "id": "42578f6e",
   "metadata": {},
   "outputs": [
    {
     "name": "stdout",
     "output_type": "stream",
     "text": [
      "Before Dropping : \n",
      " Tenure                      194\n",
      "WarehouseToHome             169\n",
      "NumberOfDeviceRegistered      0\n",
      "PreferedOrderCat              0\n",
      "SatisfactionScore             0\n",
      "MaritalStatus                 0\n",
      "NumberOfAddress               0\n",
      "Complain                      0\n",
      "DaySinceLastOrder           213\n",
      "CashbackAmount                0\n",
      "Churn                         0\n",
      "dtype: int64\n"
     ]
    }
   ],
   "source": [
    "# Null Values\n",
    "print(\"Before Dropping : \\n\",df.isnull().sum())\n",
    "df.dropna(inplace=True)"
   ]
  },
  {
   "cell_type": "code",
   "execution_count": 4,
   "id": "1442b5f4",
   "metadata": {},
   "outputs": [
    {
     "name": "stdout",
     "output_type": "stream",
     "text": [
      "Before Changing: \n",
      "\n",
      "Tenure                      float64\n",
      "WarehouseToHome             float64\n",
      "NumberOfDeviceRegistered      int64\n",
      "PreferedOrderCat             object\n",
      "SatisfactionScore             int64\n",
      "MaritalStatus                object\n",
      "NumberOfAddress               int64\n",
      "Complain                      int64\n",
      "DaySinceLastOrder           float64\n",
      "CashbackAmount              float64\n",
      "Churn                         int64\n",
      "dtype: object\n",
      "\n",
      "\n",
      "After Changing: \n",
      "\n",
      "Tenure                        int64\n",
      "WarehouseToHome               int64\n",
      "NumberOfDeviceRegistered      int64\n",
      "PreferedOrderCat             object\n",
      "SatisfactionScore             int64\n",
      "MaritalStatus                object\n",
      "NumberOfAddress               int64\n",
      "Complain                      int64\n",
      "DaySinceLastOrder             int64\n",
      "CashbackAmount              float64\n",
      "Churn                         int64\n",
      "dtype: object\n"
     ]
    }
   ],
   "source": [
    "# Correcting Data Types\n",
    "print(\"Before Changing: \\n\")\n",
    "print(df.dtypes)\n",
    "\n",
    "df = df.astype({\n",
    "    'Tenure' : 'int',\n",
    "    'WarehouseToHome' : 'int',\n",
    "    'DaySinceLastOrder' : 'int'\n",
    "})\n",
    "\n",
    "\n",
    "print(\"\\n\\nAfter Changing: \\n\")\n",
    "print(df.dtypes)"
   ]
  },
  {
   "cell_type": "markdown",
   "id": "06325ae1",
   "metadata": {},
   "source": [
    "## Feature Engineering"
   ]
  },
  {
   "cell_type": "code",
   "execution_count": 5,
   "id": "e13d0f5c",
   "metadata": {},
   "outputs": [],
   "source": [
    "df['IsNewCustomer'] = df['Tenure'] <= 5\n",
    "\n",
    "df['LowSatisfaction'] = df['SatisfactionScore'] <= 2\n",
    "\n",
    "df['HighCashback'] = df['CashbackAmount'] > df['CashbackAmount'].median()\n",
    "\n",
    "df['RecentlyActive'] = df['DaySinceLastOrder'] <= 3\n",
    "\n",
    "for col in ['IsNewCustomer','LowSatisfaction','HighCashback','RecentlyActive']:\n",
    "    df[col] = df[col].astype(int)"
   ]
  },
  {
   "cell_type": "code",
   "execution_count": 6,
   "id": "828abbfb",
   "metadata": {},
   "outputs": [
    {
     "name": "stdout",
     "output_type": "stream",
     "text": [
      "['Laptop & Accessory' 'Mobile' 'Others' 'Mobile Phone' 'Fashion' 'Grocery']\n",
      "['Laptop & Accessory' 'Mobile' 'Others' 'Fashion' 'Grocery']\n"
     ]
    }
   ],
   "source": [
    "df.head()\n",
    "print(df['PreferedOrderCat'].unique())\n",
    "\n",
    "df['PreferedOrderCat'] = df['PreferedOrderCat'].replace('Mobile Phone','Mobile')\n",
    "\n",
    "print(df['PreferedOrderCat'].unique())"
   ]
  },
  {
   "cell_type": "code",
   "execution_count": 7,
   "id": "26c57446",
   "metadata": {},
   "outputs": [
    {
     "name": "stdout",
     "output_type": "stream",
     "text": [
      "571\n",
      "0\n"
     ]
    }
   ],
   "source": [
    "# Remove Duplicates\n",
    "print(df.duplicated().sum())\n",
    "\n",
    "df.drop_duplicates(inplace=True)\n",
    "\n",
    "print(df.duplicated().sum())\n"
   ]
  },
  {
   "cell_type": "code",
   "execution_count": 12,
   "id": "fcc22ed3",
   "metadata": {},
   "outputs": [],
   "source": [
    "#Save Cleaned Dataset\n",
    "df.to_csv(\"../data/processed/df_cleaned.csv\",index=False)"
   ]
  },
  {
   "cell_type": "code",
   "execution_count": 8,
   "id": "98ac9f8e",
   "metadata": {},
   "outputs": [
    {
     "name": "stdout",
     "output_type": "stream",
     "text": [
      "['Single' 'Married' 'Divorced']\n",
      "['Laptop & Accessory' 'Mobile' 'Others' 'Fashion' 'Grocery']\n"
     ]
    }
   ],
   "source": [
    "# Encoding Categorical Features\n",
    "print(df['MaritalStatus'].unique())\n",
    "\n",
    "print(df['PreferedOrderCat'].unique())\n",
    "\n",
    "cat_cols = ['MaritalStatus','PreferedOrderCat']\n",
    "\n",
    "df_logistic = pd.get_dummies(df, columns=cat_cols, drop_first=True)\n",
    "\n",
    "df_tree = pd.get_dummies(df, columns=cat_cols, drop_first=False)"
   ]
  },
  {
   "cell_type": "code",
   "execution_count": 13,
   "id": "86763aa6",
   "metadata": {},
   "outputs": [],
   "source": [
    "# Save Individual Dataset after encoding\n",
    "df_logistic.to_csv(\"../data/processed/df_logistic.csv\",index=False)\n",
    "df_tree.to_csv(\"../data/processed/df_tree.csv\",index=False)"
   ]
  }
 ],
 "metadata": {
  "kernelspec": {
   "display_name": "churn_env",
   "language": "python",
   "name": "python3"
  },
  "language_info": {
   "codemirror_mode": {
    "name": "ipython",
    "version": 3
   },
   "file_extension": ".py",
   "mimetype": "text/x-python",
   "name": "python",
   "nbconvert_exporter": "python",
   "pygments_lexer": "ipython3",
   "version": "3.10.18"
  }
 },
 "nbformat": 4,
 "nbformat_minor": 5
}
